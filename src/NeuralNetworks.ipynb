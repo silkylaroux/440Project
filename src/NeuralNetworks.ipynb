{
 "cells": [
  {
   "cell_type": "markdown",
   "metadata": {},
   "source": [
    "$\\newcommand{\\xv}{\\mathbf{x}}\n",
    "\\newcommand{\\Xv}{\\mathbf{X}}\n",
    "\\newcommand{\\yv}{\\mathbf{y}}\n",
    "\\newcommand{\\zv}{\\mathbf{z}}\n",
    "\\newcommand{\\av}{\\mathbf{a}}\n",
    "\\newcommand{\\Wv}{\\mathbf{W}}\n",
    "\\newcommand{\\wv}{\\mathbf{w}}\n",
    "\\newcommand{\\tv}{\\mathbf{t}}\n",
    "\\newcommand{\\Tv}{\\mathbf{T}}\n",
    "\\newcommand{\\muv}{\\boldsymbol{\\mu}}\n",
    "\\newcommand{\\sigmav}{\\boldsymbol{\\sigma}}\n",
    "\\newcommand{\\phiv}{\\boldsymbol{\\phi}}\n",
    "\\newcommand{\\Phiv}{\\boldsymbol{\\Phi}}\n",
    "\\newcommand{\\Sigmav}{\\boldsymbol{\\Sigma}}\n",
    "\\newcommand{\\Lambdav}{\\boldsymbol{\\Lambda}}\n",
    "\\newcommand{\\half}{\\frac{1}{2}}\n",
    "\\newcommand{\\argmax}[1]{\\underset{#1}{\\operatorname{argmax}}}\n",
    "\\newcommand{\\argmin}[1]{\\underset{#1}{\\operatorname{argmin}}}$"
   ]
  },
  {
   "cell_type": "markdown",
   "metadata": {},
   "source": [
    "## Neural Network Code"
   ]
  },
  {
   "cell_type": "markdown",
   "metadata": {},
   "source": [
    "We began by starting with a ```NeuralNetwork``` class that was written by Dr. Charles Anderson in previous lecture for CS 445 - Machine Learning. We then took that class and we have created a new version of it which we can use to break up and test the data from our Heroes of the Storm demos. This data has been parsed into arrays so that we can easily feed them through this code and gather significant information about the data sets. We can then take this data and we can calculate, display, and discuss the teams results."
   ]
  },
  {
   "cell_type": "markdown",
   "metadata": {},
   "source": [
    "Again, we begin with the ```NeuralNetwork``` class defined in lecture notes 09 of CS 445 Machine Learning with Dr. Anderson. We will also need mlutilities.py which was written by him and was initially imported from:\n",
    "\n",
    "http://www.cs.colostate.edu/~anderson/cs445/notebooks/mlutilities09.tar"
   ]
  },
  {
   "cell_type": "code",
   "execution_count": 1,
   "metadata": {},
   "outputs": [
    {
     "name": "stdout",
     "output_type": "stream",
     "text": [
      "Stopped after 3 iterations. Reason for stopping: limit on x Precision\n",
      "Optimal: point = [4.9999997  5.00000031] f = 1.853198133182618e-13\n"
     ]
    }
   ],
   "source": [
    "# Functions for use in CS445, Introduction to Machine Learning\n",
    "# Spring, 2018\n",
    "# by Chuck Anderson, for CS445 \n",
    "# http://www.cs.colostate.edu/~anderson\n",
    "# You may use, but please credit the source.\n",
    "#\n",
    "# Added to this notebook as code for use in\n",
    "# CS440, Introduction to Artificial Intelligence\n",
    "# Fall, 2018\n",
    "# ALL credit goes to Dr. Anderson, as outlined above\n",
    "# or the individuals cited throughout the code \n",
    "      \n",
    "from copy import copy\n",
    "import numpy as np\n",
    "import matplotlib.pyplot as plt\n",
    "import matplotlib.patches as pltpatch  # for Arc\n",
    "import matplotlib.collections as pltcoll\n",
    "import pandas as pd\n",
    "import sys\n",
    "from math import sqrt, ceil\n",
    "floatPrecision = sys.float_info.epsilon\n",
    "\n",
    "def trainValidateTestKFolds(trainf, evaluatef, X, T, parameterSets, nFolds=5,\n",
    "                            shuffle=False, verbose=False):\n",
    "    # Randomly arrange row indices\n",
    "    rowIndices = np.arange(X.shape[0])\n",
    "    if shuffle:\n",
    "        np.random.shuffle(rowIndices)\n",
    "    isNewBetterThanOld = lambda new,old: new < old\n",
    "    # Calculate number of samples in each of the nFolds folds\n",
    "    nSamples = X.shape[0]\n",
    "    nEach = int(nSamples / nFolds)\n",
    "    if nEach == 0:\n",
    "        raise ValueError(\"trainValidateTestKFolds: Number of samples in each fold is 0.\")\n",
    "    # Calculate the starting and stopping row index for each fold.\n",
    "    # Store in startsStops as list of (start,stop) pairs\n",
    "    starts = np.arange(0,nEach*nFolds, nEach)\n",
    "    stops = starts + nEach\n",
    "    stops[-1] = nSamples\n",
    "    startsStops = list(zip(starts, stops))\n",
    "        \n",
    "    # Repeat with testFold taking each single fold, one at a time\n",
    "    results = []\n",
    "    for testFold in range(nFolds):\n",
    "        # Leaving the testFold out, for each validate fold, train on remaining\n",
    "        # folds and evaluate on validate fold. Collect theseRepeat with validate\n",
    "        # Construct Xtest and Ttest\n",
    "        a,b = startsStops[testFold]\n",
    "        rows = rowIndices[a:b]\n",
    "        Xtest = X[rows, :]\n",
    "        Ttest = T[rows, :]\n",
    "\n",
    "        bestParms = None\n",
    "        for parms in parameterSets:\n",
    "            # trainEvaluationSum = 0\n",
    "            validateEvaluationSum = 0\n",
    "            for validateFold in range(nFolds):\n",
    "                if testFold == validateFold:\n",
    "                    continue\n",
    "                # Construct Xtrain and Ttrain\n",
    "                trainFolds = np.setdiff1d(range(nFolds), [testFold, validateFold])\n",
    "                rows = []\n",
    "                for tf in trainFolds:\n",
    "                    a,b = startsStops[tf]                \n",
    "                    rows += rowIndices[a:b].tolist()\n",
    "                Xtrain = X[rows, :]\n",
    "                Ttrain = T[rows, :]\n",
    "                # Construct Xvalidate and Tvalidate\n",
    "                a,b = startsStops[validateFold]\n",
    "                rows = rowIndices[a:b]\n",
    "                Xvalidate = X[rows, :]\n",
    "                Tvalidate = T[rows, :]\n",
    "\n",
    "                model = trainf(Xtrain, Ttrain, parms)\n",
    "                # trainEvaluationSum += evaluatef(model,Xtrain,Train)\n",
    "                validateEvaluationSum += evaluatef(model, Xvalidate, Tvalidate)\n",
    "            validateEvaluation = validateEvaluationSum / (nFolds-1)\n",
    "            if verbose:\n",
    "                if hasattr(model, 'bestIteration') and model.bestIteration is not None:\n",
    "                    print('{} Val {:.3f} Best Iter {:d}'.format(parms, validateEvaluation, model.bestIteration))\n",
    "                else:\n",
    "                    print('{} Val {:.3f}'.format(parms, validateEvaluation))\n",
    "\n",
    "            if bestParms is None or isNewBetterThanOld(validateEvaluation, bestValidationEvaluation): \n",
    "                bestParms = parms\n",
    "                bestValidationEvaluation = validateEvaluation\n",
    "                if verbose:\n",
    "                    print('New best')\n",
    "                # trainEvaluation = trainEvaluationSum / (nFolds-1)\n",
    "\n",
    "        newXtrain = np.vstack((Xtrain, Xvalidate))\n",
    "        newTtrain = np.vstack((Ttrain, Tvalidate))\n",
    "\n",
    "        model = trainf(newXtrain, newTtrain, bestParms)\n",
    "        trainEvaluation = evaluatef(model, newXtrain, newTtrain)\n",
    "        testEvaluation = evaluatef(model, Xtest, Ttest)\n",
    "\n",
    "        # resultThisTestFold = [bestParms, trainEvaluation,\n",
    "        #                       bestValidationEvaluation, testEvaluation]\n",
    "        resultThisTestFold = [nFolds, testFold+1, bestParms, trainEvaluation, bestValidationEvaluation, testEvaluation]\n",
    "        results.append(resultThisTestFold)\n",
    "        print(pd.DataFrame(results,\n",
    "                           columns=('nFolds',\n",
    "                                    'Test Fold',\n",
    "                                    'Best Parameters',\n",
    "                                    'Train Accuracy',\n",
    "                                    'Validation Accuracy',\n",
    "                                    'Test Accuracy')))\n",
    "        # print('{}/{}'.format(testFold+1, nFolds), end=' ', flush=True)\n",
    "    return pd.DataFrame(results,\n",
    "                        columns=('nFolds',\n",
    "                                 'Test Fold',\n",
    "                                 'Best Parameters',\n",
    "                                 'Train Accuracy',\n",
    "                                 'Validation Accuracy',\n",
    "                                 'Test Accuracy'))\n",
    "\n",
    "######################################################################\n",
    "\n",
    "def draw(Vs, W, inputNames=None, outputNames=None, gray=False):\n",
    "\n",
    "    def isOdd(x):\n",
    "        return x % 2 != 0\n",
    "\n",
    "    W = Vs + [W]\n",
    "    nLayers = len(W)\n",
    "\n",
    "    # calculate xlim and ylim for whole network plot\n",
    "    #  Assume 4 characters fit between each wire\n",
    "    #  -0.5 is to leave 0.5 spacing before first wire\n",
    "    xlim = max(map(len, inputNames))/4.0 if inputNames else 1\n",
    "    ylim = 0\n",
    "\n",
    "    for li in range(nLayers):\n",
    "        ni, no = W[li].shape  # no means number outputs this layer\n",
    "        if not isOdd(li):\n",
    "            ylim += ni + 0.5\n",
    "        else:\n",
    "            xlim += ni + 0.5\n",
    "\n",
    "    ni, no = W[nLayers-1].shape\n",
    "    if isOdd(nLayers):\n",
    "        xlim += no + 0.5\n",
    "    else:\n",
    "        ylim += no + 0.5\n",
    "\n",
    "    # Add space for output names\n",
    "    if outputNames:\n",
    "        if isOdd(nLayers):\n",
    "            ylim += 0.25\n",
    "        else:\n",
    "            xlim += round(max(map(len,outputNames))/4.0)\n",
    "\n",
    "    ax = plt.gca()\n",
    "\n",
    "    character_width_factor = 0.07\n",
    "    padding = 2\n",
    "    if inputNames:\n",
    "        x0 = max([1, max(map(len, inputNames)) * (character_width_factor * 3.5)])\n",
    "    else:\n",
    "        x0 = 1\n",
    "    y0 = 0  # to allow for constant input to first layer\n",
    "    # First Layer\n",
    "    if inputNames:\n",
    "        y = 0.55\n",
    "        for n in inputNames:\n",
    "            y += 1\n",
    "            ax.text(x0 - (character_width_factor * padding), y, n, horizontalalignment=\"right\", fontsize=20)\n",
    "\n",
    "    patches = []\n",
    "    for li in range(nLayers):\n",
    "        thisW = W[li]\n",
    "        maxW = np.max(np.abs(thisW))\n",
    "        ni, no = thisW.shape\n",
    "        if not isOdd(li):\n",
    "            # Even layer index. Vertical layer. Origin is upper left.\n",
    "            # Constant input\n",
    "            ax.text(x0-0.2, y0+0.5, '1', fontsize=20)\n",
    "            for i in range(ni):\n",
    "                ax.plot((x0, x0+no-0.5), (y0+i+0.5, y0+i+0.5), color='gray')\n",
    "            # output lines\n",
    "            for i in range(no):\n",
    "                ax.plot((x0+1+i-0.5, x0+1+i-0.5), (y0, y0+ni+1), color='gray')\n",
    "            # cell \"bodies\"\n",
    "            xs = x0 + np.arange(no) + 0.5\n",
    "            ys = np.array([y0+ni+0.5]*no)\n",
    "            for x, y in zip(xs, ys):\n",
    "                patches.append(pltpatch.RegularPolygon((x, y-0.4), 3, 0.3, 0, color ='#555555'))\n",
    "            # weights\n",
    "            if gray:\n",
    "                colors = np.array([\"black\", \"gray\"])[(thisW.flat >= 0)+0]\n",
    "            else:\n",
    "                colors = np.array([\"red\", \"green\"])[(thisW.flat >= 0)+0]\n",
    "            xs = np.arange(no) + x0+0.5\n",
    "            ys = np.arange(ni) + y0 + 0.5\n",
    "            coords = np.meshgrid(xs, ys)\n",
    "            for x, y, w, c in zip(coords[0].flat, coords[1].flat,\n",
    "                                  np.abs(thisW/maxW).flat, colors):\n",
    "                patches.append(pltpatch.Rectangle((x-w/2, y-w/2), w, w, color=c))\n",
    "            y0 += ni + 1\n",
    "            x0 += -1  # shift for next layer's constant input\n",
    "        else:\n",
    "            # Odd layer index. Horizontal layer. Origin is upper left.\n",
    "            # Constant input\n",
    "            ax.text(x0+0.5, y0-0.2, '1', fontsize=20)\n",
    "            # input lines\n",
    "            for i in range(ni):\n",
    "                ax.plot((x0+i+0.5,  x0+i+0.5), (y0, y0+no-0.5), color='gray')\n",
    "            # output lines\n",
    "            for i in range(no):\n",
    "                ax.plot((x0, x0+ni+1), (y0+i+0.5, y0+i+0.5), color='gray')\n",
    "            # cell \"bodies\"\n",
    "            xs = np.array([x0 + ni + 0.5] * no)\n",
    "            ys = y0 + 0.5 + np.arange(no)\n",
    "            for x, y in zip(xs, ys):\n",
    "                patches.append(pltpatch.RegularPolygon((x-0.4, y), 3, 0.3, -np.pi/2, color ='#555555'))\n",
    "            # weights\n",
    "            if gray:\n",
    "                colors = np.array([\"black\", \"gray\"])[(thisW.flat >= 0)+0]\n",
    "            else:\n",
    "                colors = np.array([\"red\", \"green\"])[(thisW.flat >= 0)+0]\n",
    "            xs = np.arange(ni)+x0 + 0.5\n",
    "            ys = np.arange(no)+y0 + 0.5\n",
    "            coords = np.meshgrid(xs, ys)\n",
    "            for x, y, w, c in zip(coords[0].flat, coords[1].flat,\n",
    "                                  np.abs(thisW/maxW).flat, colors):\n",
    "                patches.append(pltpatch.Rectangle((x-w/2, y-w/2), w, w, color=c))\n",
    "            x0 += ni + 1\n",
    "            y0 -= 1  # shift to allow for next layer's constant input\n",
    "\n",
    "    collection = pltcoll.PatchCollection(patches, match_original=True)\n",
    "    ax.add_collection(collection)\n",
    "\n",
    "    # Last layer output labels\n",
    "    if outputNames:\n",
    "        if isOdd(nLayers):\n",
    "            x = x0+1.5\n",
    "            for n in outputNames:\n",
    "                x += 1\n",
    "                ax.text(x, y0+0.5, n, fontsize=20)\n",
    "        else:\n",
    "            y = y0+0.6\n",
    "            for n in outputNames:\n",
    "                y += 1\n",
    "                ax.text(x0+0.2, y, n, fontsize=20)\n",
    "    ax.axis([0, xlim, ylim, 0])\n",
    "    ax.axis('off')\n",
    "\n",
    "\n",
    "######################################################################\n",
    "### Scaled Conjugate Gradient algorithm from\n",
    "###  \"A Scaled Conjugate Gradient Algorithm for Fast Supervised Learning\"\n",
    "###  by Martin F. Moller\n",
    "###  Neural Networks, vol. 6, pp. 525-533, 1993\n",
    "###\n",
    "###  Adapted by Chuck Anderson from the Matlab implementation by Nabney\n",
    "###   as part of the netlab library.\n",
    "###\n",
    "###  Call as   scg()  to see example use.\n",
    "\n",
    "def scg(x, f, gradf, *fargs, **params):\n",
    "    \"\"\"scg:\n",
    "    Example:\n",
    "    def parabola(x,xmin,s):\n",
    "        d = x - xmin\n",
    "        return np.dot( np.dot(d.T, s), d)\n",
    "    def parabolaGrad(x,xmin,s):\n",
    "        d = x - xmin\n",
    "        return 2 * np.dot(s, d)\n",
    "    center = np.array([5,5])\n",
    "    S = np.array([[5,4],[4,5]])\n",
    "    firstx = np.array([-1.0,2.0])\n",
    "    r = scg(firstx, parabola, parabolaGrad, center, S,\n",
    "            xPrecision=0.001, nIterations=1000)\n",
    "    print('Optimal: point',r[0],'f',r[1])\"\"\"\n",
    "\n",
    "    evalFunc = params.pop(\"evalFunc\",lambda x: \"Eval \"+str(x))\n",
    "    nIterations = params.pop(\"nIterations\",1000)\n",
    "    xPrecision = params.pop(\"xPrecision\",0) \n",
    "    fPrecision = params.pop(\"fPrecision\",0)\n",
    "    xtracep = params.pop(\"xtracep\",False)\n",
    "    ftracep = params.pop(\"ftracep\",False)\n",
    "    verbose = params.pop(\"verbose\",False)\n",
    "    iterationVariable = params.pop(\"iterationVariable\",None)\n",
    "\n",
    "### from Nabney's netlab matlab library\n",
    "  \n",
    "    nvars = len(x)\n",
    "    sigma0 = 1.0e-6\n",
    "    fold = f(x, *fargs)\n",
    "    fnow = fold\n",
    "    gradnew = gradf(x, *fargs)\n",
    "    gradold = copy(gradnew)\n",
    "    d = -gradnew\t\t\t\t# Initial search direction.\n",
    "    success = True\t\t\t\t# Force calculation of directional derivs.\n",
    "    nsuccess = 0\t\t\t\t# nsuccess counts number of successes.\n",
    "    beta = 1.0e-6\t\t\t\t# Initial scale parameter. Lambda in Moeller.\n",
    "    betamin = 1.0e-15 \t\t\t# Lower bound on scale.\n",
    "    betamax = 1.0e20\t\t\t# Upper bound on scale.\n",
    "    j = 1\t\t\t\t# j counts number of iterations.\n",
    "    \n",
    "    if xtracep:\n",
    "        xtrace = np.zeros((nIterations+1,len(x)))\n",
    "        xtrace[0,:] = x\n",
    "    else:\n",
    "        xtrace = None\n",
    "\n",
    "    if ftracep:\n",
    "        ftrace = np.zeros(nIterations+1)\n",
    "        ftrace[0] = fold\n",
    "    else:\n",
    "        ftrace = None\n",
    "        \n",
    "    ### Main optimization loop.\n",
    "    while j <= nIterations:\n",
    "\n",
    "        # Calculate first and second directional derivatives.\n",
    "        if success:\n",
    "            mu = np.dot(d, gradnew)\n",
    "            if np.isnan(mu): print(\"mu is NaN\")\n",
    "            if mu >= 0:\n",
    "                d = -gradnew\n",
    "                mu = np.dot(d, gradnew)\n",
    "            kappa = np.dot(d, d)\n",
    "            if False and kappa < floatPrecision:\n",
    "                print( kappa)\n",
    "                return {'x':x, 'f':fnow, 'nIterations':j, 'xtrace':xtrace[:j,:] if xtracep else None, \n",
    "                        'ftrace':ftrace[:j] if ftracep else None,\n",
    "                        'reason':\"limit on machine precision\"}\n",
    "            sigma = sigma0/sqrt(kappa)\n",
    "            xplus = x + sigma * d\n",
    "            gplus = gradf(xplus, *fargs)\n",
    "            theta = np.dot(d, gplus - gradnew)/sigma\n",
    "\n",
    "        ## Increase effective curvature and evaluate step size alpha.\n",
    "        delta = theta + beta * kappa\n",
    "        if np.isnan(delta): print(\"delta is NaN\")\n",
    "        if delta <= 0:\n",
    "            delta = beta * kappa\n",
    "            beta = beta - theta/kappa\n",
    "        alpha = -mu/delta\n",
    "        \n",
    "        ## Calculate the comparison ratio.\n",
    "        xnew = x + alpha * d\n",
    "        fnew = f(xnew, *fargs)\n",
    "        Delta = 2 * (fnew - fold) / (alpha*mu)\n",
    "        # if np.isnan(Delta):\n",
    "        #     pdb.set_trace()\n",
    "        if not np.isnan(Delta) and Delta  >= 0:\n",
    "            success = True\n",
    "            nsuccess += 1\n",
    "            x = xnew\n",
    "            fnow = fnew\n",
    "        else:\n",
    "            success = False\n",
    "            fnow = fold\n",
    "\n",
    "        if verbose and j % max(1,ceil(nIterations/10)) == 0:\n",
    "            print(\"SCG: Iteration\",j,\"fValue\",evalFunc(fnow),\"Scale\",beta)\n",
    "            \n",
    "        if xtracep:\n",
    "            xtrace[j,:] = x\n",
    "        if ftracep:\n",
    "            ftrace[j] = fnow\n",
    "            \n",
    "        if success:\n",
    "            ## Test for termination\n",
    "\n",
    "            if max(abs(alpha*d)) < xPrecision:\n",
    "                return {'x':x, 'f':fnow, 'nIterations':j, 'xtrace':xtrace[:j,:] if xtracep else None, \n",
    "                        'ftrace':ftrace[:j] if ftracep else None,\n",
    "                        'reason':\"limit on x Precision\"}\n",
    "            elif abs(fnew-fold) < fPrecision:\n",
    "                return {'x':x, 'f':fnow, 'nIterations':j, 'xtrace':xtrace[:j,:] if xtracep else None, \n",
    "                        'ftrace':ftrace[:j] if ftracep else None,\n",
    "                        'reason':\"limit on f Precision\"}\n",
    "            else:\n",
    "                ## Update variables for new position\n",
    "                fold = fnew\n",
    "                gradold = gradnew\n",
    "                gradnew = gradf(x, *fargs)\n",
    "                ## If the gradient is zero then we are done.\n",
    "                if np.dot(gradnew, gradnew) == 0:\n",
    "                    return {'x':x, 'f':fnow, 'nIterations':j, 'xtrace':xtrace[:j,:] if xtracep else None, 'ftrace':ftrace[:j],\n",
    "                            'reason':\"zero gradient\"}\n",
    "\n",
    "        ## Adjust beta according to comparison ratio.\n",
    "        if np.isnan(Delta) or Delta < 0.25:\n",
    "            beta = min(4.0*beta, betamax)\n",
    "        elif Delta > 0.75:\n",
    "            beta = max(0.5*beta, betamin)\n",
    "\n",
    "        ## Update search direction using Polak-Ribiere formula, or re-start \n",
    "        ## in direction of negative gradient after nparams steps.\n",
    "        if nsuccess == nvars:\n",
    "            d = -gradnew\n",
    "            nsuccess = 0\n",
    "        elif success:\n",
    "            gamma = np.dot(gradold - gradnew, gradnew/mu)\n",
    "            d = gamma * d - gradnew\n",
    "        j += 1\n",
    "        if iterationVariable is not None:\n",
    "            iterationVariable.value = j\n",
    "\n",
    "        ## If we get here, then we haven't terminated in the given number of \n",
    "        ## iterations.\n",
    "\n",
    "    return {'x':x, 'f':fnow, 'nIterations':j, 'xtrace':xtrace[:j,:] if xtracep else None, 'ftrace':ftrace[:j],\n",
    "            'reason':\"did not converge\"}\n",
    "\n",
    "######################################################################\n",
    "### steepest\n",
    "def steepest(x, f, gradf, *fargs, **params):\n",
    "    \"\"\"steepest:\n",
    "    Example:\n",
    "    def parabola(x,xmin,s):\n",
    "        d = x - xmin\n",
    "        return np.dot( np.dot(d.T, s), d)\n",
    "    def parabolaGrad(x,xmin,s):\n",
    "        d = x - xmin\n",
    "        return 2 * np.dot(s, d)\n",
    "    center = np.array([5,5])\n",
    "    S = np.array([[5,4],[4,5]])\n",
    "    firstx = np.array([-1.0,2.0])\n",
    "    r = steepest(firstx, parabola, parabolaGrad, center, S,\n",
    "                 stepsize=0.01,xPrecision=0.001, nIterations=1000)\n",
    "    print('Optimal: point',r[0],'f',r[1])\"\"\"\n",
    "\n",
    "    stepsize= params.pop(\"stepsize\",0.1)\n",
    "    evalFunc = params.pop(\"evalFunc\",lambda x: \"Eval \"+str(x))\n",
    "    nIterations = params.pop(\"nIterations\",1000)\n",
    "    xPrecision = params.pop(\"xPrecision\", 1.e-8)  # 1.e-8 is a default value\n",
    "    fPrecision = params.pop(\"fPrecision\", 1.e-8)\n",
    "    xtracep = params.pop(\"xtracep\",False)\n",
    "    ftracep = params.pop(\"ftracep\",False)\n",
    "\n",
    "    xtracep = True\n",
    "    ftracep = True\n",
    "    \n",
    "    i = 1\n",
    "    if xtracep:\n",
    "        xtrace = np.zeros((nIterations+1,len(x)))\n",
    "        xtrace[0,:] = x\n",
    "    else:\n",
    "        xtrace = None\n",
    "    oldf = f(x,*fargs)\n",
    "    if ftracep:\n",
    "        ftrace = np.zeros(nIterations+1)\n",
    "        ftrace[0] = f(x,*fargs)\n",
    "    else:\n",
    "        ftrace = None\n",
    "  \n",
    "    while i <= nIterations:\n",
    "        g = gradf(x,*fargs)\n",
    "        newx = x - stepsize * g\n",
    "        newf = f(newx,*fargs)\n",
    "        if (i % (nIterations/10)) == 0:\n",
    "            print(\"Steepest: Iteration\",i,\"Error\",evalFunc(newf))\n",
    "        if xtracep:\n",
    "            xtrace[i,:] = newx\n",
    "        if ftracep:\n",
    "            ftrace[i] = newf\n",
    "        if np.any(newx == np.nan) or newf == np.nan:\n",
    "            raise ValueError(\"Error: Steepest descent produced newx that is NaN. Stepsize may be too large.\")\n",
    "        if np.any(newx==np.inf) or  newf==np.inf:\n",
    "            raise ValueError(\"Error: Steepest descent produced newx that is NaN. Stepsize may be too large.\")\n",
    "        if max(abs(newx - x)) < xPrecision:\n",
    "            return {'x':newx, 'f':newf, 'nIterations':i, 'xtrace':xtrace[:i,:], 'ftrace':ftrace[:i],\n",
    "                    'reason':\"limit on x precision\"}\n",
    "        if abs(newf - oldf) < fPrecision:\n",
    "            return {'x':newx, 'f':newf, 'nIterations':i, 'xtrace':xtrace[:i,:], 'ftrace':ftrace[:i],\n",
    "                    'reason':\"limit on f precision\"}\n",
    "        x = newx\n",
    "        oldf = newf\n",
    "        i += 1\n",
    "\n",
    "    return {'x':newx, 'f':newf, 'nIterations':i, 'xtrace':xtrace[:i,:], 'ftrace':ftrace[:i], 'reason':\"did not converge\"}\n",
    "\n",
    "\n",
    "\n",
    "if __name__ == \"__main__\":\n",
    "\n",
    "    def parabola(x,xmin,s):\n",
    "        d = x - xmin\n",
    "        return np.dot( np.dot(d.T, s), d)\n",
    "    def parabolaGrad(x,xmin,s):\n",
    "        d = x - xmin\n",
    "        return 2 * np.dot(s, d)\n",
    "    center = np.array([5,5])\n",
    "    S = np.array([[5,4],[4,5]])\n",
    "\n",
    "    firstx = np.array([-1.0,2.0])\n",
    "    r = scg(firstx, parabola, parabolaGrad, center, S,\n",
    "            xPrecision=0.001, nIterations=1000)\n",
    "\n",
    "    print('Stopped after',r['nIterations'],'iterations. Reason for stopping:',r['reason'])\n",
    "    print('Optimal: point =',r['x'],'f =',r['f'])"
   ]
  },
  {
   "cell_type": "markdown",
   "metadata": {},
   "source": [
    "As stated above, we started with our initial neural network code (provided by Dr. Anderson). We then defined a new class named NeuralNetworkReLU that extends NeuralNetwork and simply defines new implementations of activation and activationDerivative that implement the ReLU activation function instead of the tanh activation function. \n",
    "\n",
    "This is because we wanted to test out both activation functions, tanh and ReLU, for our Neural Networks in order to compare the results and this gave us the ability to test both. \n",
    "\n",
    "We choose these two functions, because two of us have worked with them in past projects and we were more comfortable with using them. However, we could have just as easily used something like the Swish or similar \"new\" implementations. "
   ]
  },
  {
   "cell_type": "code",
   "execution_count": 2,
   "metadata": {},
   "outputs": [
    {
     "name": "stdout",
     "output_type": "stream",
     "text": [
      "NeuralNetwork(1, [], 1)\n",
      "   Network was trained for 3 iterations that took 0.0005 seconds. Final error is 5.863591435457495e-11.\n",
      "NeuralNetwork(1, [5, 5], 1)\n",
      "   Network was trained for 11 iterations that took 0.0025 seconds. Final error is 0.5166367662122249.\n"
     ]
    }
   ],
   "source": [
    "# Neural Network code was initially provided \n",
    "# for use in CS445, Introduction to Machine Learning\n",
    "# Spring, 2018\n",
    "# by Chuck Anderson, for CS445 \n",
    "# http://www.cs.colostate.edu/~anderson\n",
    "# You may use, but please credit the source.\n",
    "#\n",
    "# Added to this notebook as code for use in\n",
    "# CS440, Introduction to Artificial Intelligence\n",
    "# Fall, 2018\n",
    "# ALL credit goes to Dr. Anderson, as outlined above\n",
    "# or individuals cited throughout the code\n",
    "# \n",
    "# Some edits have been made by this team as defined \n",
    "# in the jupyter notebook this was found in. \n",
    "\n",
    "import numpy as np\n",
    "import mlutilities as ml\n",
    "import matplotlib.pyplot as plt\n",
    "from copy import copy\n",
    "import time\n",
    "import random\n",
    "\n",
    "\n",
    "class NeuralNetwork(object):\n",
    "\n",
    "    def __init__(self, ni, nhs, no):\n",
    "        if isinstance(nhs, list) or isinstance(nhs, tuple):\n",
    "            nihs = [ni] + list(nhs)\n",
    "        else:\n",
    "            if nhs > 0:\n",
    "                nihs = [ni, nhs]\n",
    "                nhs = [nhs]\n",
    "            else:\n",
    "                nihs = [ni]\n",
    "                nhs = []\n",
    "        if len(nihs) > 1:\n",
    "            self.Vs = [1/np.sqrt(nihs[i]) *\n",
    "                       np.random.uniform(-1, 1, size=(1+nihs[i], nihs[i+1])) for i in range(len(nihs)-1)]\n",
    "            self.W = 1/np.sqrt(nhs[-1]) * np.random.uniform(-1, 1, size=(1+nhs[-1], no))\n",
    "        else:\n",
    "            self.Vs = []\n",
    "            self.W = 1/np.sqrt(ni) * np.random.uniform(-1, 1, size=(1+ni, no))\n",
    "        self.ni, self.nhs, self.no = ni, nhs, no\n",
    "        self.Xmeans = None\n",
    "        self.Xstds = None\n",
    "        self.Tmeans = None\n",
    "        self.Tstds = None\n",
    "        self.trained = False\n",
    "        self.reason = None\n",
    "        self.errorTrace = None\n",
    "        self.numberOfIterations = None\n",
    "        self.trainingTime = None\n",
    "\n",
    "    def __repr__(self):\n",
    "        str = 'NeuralNetwork({}, {}, {})'.format(self.ni, self.nhs, self.no)\n",
    "        # str += '  Standardization parameters' + (' not' if self.Xmeans == None else '') + ' calculated.'\n",
    "        if self.trained:\n",
    "            str += '\\n   Network was trained for {} iterations that took {:.4f} seconds. Final error is {}.'.format(self.numberOfIterations, self.getTrainingTime(), self.errorTrace[-1])\n",
    "        else:\n",
    "            str += '  Network is not trained.'\n",
    "        return str\n",
    "\n",
    "    def _standardizeX(self, X):\n",
    "        result = (X - self.Xmeans) / self.XstdsFixed\n",
    "        result[:, self.Xconstant] = 0.0\n",
    "        return result\n",
    "\n",
    "    def _unstandardizeX(self, Xs):\n",
    "        return self.Xstds * Xs + self.Xmeans\n",
    "\n",
    "    def _standardizeT(self, T):\n",
    "        result = (T - self.Tmeans) / self.TstdsFixed\n",
    "        result[:, self.Tconstant] = 0.0\n",
    "        return result\n",
    "\n",
    "    def _unstandardizeT(self, Ts):\n",
    "        return self.Tstds * Ts + self.Tmeans\n",
    "\n",
    "    def _pack(self, Vs, W):\n",
    "        return np.hstack([V.flat for V in Vs] + [W.flat])\n",
    "\n",
    "    def _unpack(self, w):\n",
    "        first = 0\n",
    "        numInThisLayer = self.ni\n",
    "        for i in range(len(self.Vs)):\n",
    "            self.Vs[i][:] = w[first:first+(numInThisLayer+1)*self.nhs[i]].reshape((numInThisLayer+1, self.nhs[i]))\n",
    "            first += (numInThisLayer+1) * self.nhs[i]\n",
    "            numInThisLayer = self.nhs[i]\n",
    "        self.W[:] = w[first:].reshape((numInThisLayer+1, self.no))\n",
    "\n",
    "    def _objectiveF(self, w, X, T):\n",
    "        self._unpack(w)\n",
    "        # Do forward pass through all layers\n",
    "        Zprev = X\n",
    "        for i in range(len(self.nhs)):\n",
    "            V = self.Vs[i]\n",
    "            Zprev = self.activation(Zprev @ V[1:, :] + V[0:1, :])  # handling bias weight without adding column of 1's\n",
    "        Y = Zprev @ self.W[1:, :] + self.W[0:1, :]\n",
    "        return 0.5 * np.mean((T-Y)**2)\n",
    "\n",
    "    def _gradientF(self, w, X, T):\n",
    "        self._unpack(w)\n",
    "        # Do forward pass through all layers\n",
    "        Zprev = X\n",
    "        Z = [Zprev]\n",
    "        for i in range(len(self.nhs)):\n",
    "            V = self.Vs[i]\n",
    "            Zprev = self.activation(Zprev @ V[1:, :] + V[0:1, :])\n",
    "            Z.append(Zprev)\n",
    "        Y = Zprev @ self.W[1:, :] + self.W[0:1, :]\n",
    "        # Do backward pass, starting with delta in output layer\n",
    "        delta = -(T - Y) / (X.shape[0] * T.shape[1])\n",
    "        dW = np.vstack((np.ones((1, delta.shape[0])) @ delta, \n",
    "                        Z[-1].T @ delta))\n",
    "        dVs = []\n",
    "        delta = self.activationDerivative(Z[-1]) * (delta @ self.W[1:, :].T)\n",
    "        for Zi in range(len(self.nhs), 0, -1):\n",
    "            Vi = Zi - 1  # because X is first element of Z\n",
    "            dV = np.vstack((np.ones((1, delta.shape[0])) @ delta,\n",
    "                            Z[Zi-1].T @ delta))\n",
    "            dVs.insert(0, dV)\n",
    "            delta = (delta @ self.Vs[Vi][1:, :].T) * self.activationDerivative(Z[Zi-1])\n",
    "        return self._pack(dVs, dW)\n",
    "\n",
    "    def train(self, X, T, nIterations=100, verbose=False,\n",
    "              weightPrecision=0, errorPrecision=0, saveWeightsHistory=False):\n",
    "        \n",
    "        if self.Xmeans is None:\n",
    "            self.Xmeans = X.mean(axis=0)\n",
    "            self.Xstds = X.std(axis=0)\n",
    "            self.Xconstant = self.Xstds == 0\n",
    "            self.XstdsFixed = copy(self.Xstds)\n",
    "            self.XstdsFixed[self.Xconstant] = 1\n",
    "        X = self._standardizeX(X)\n",
    "\n",
    "        if T.ndim == 1:\n",
    "            T = T.reshape((-1, 1))\n",
    "\n",
    "        if self.Tmeans is None:\n",
    "            self.Tmeans = T.mean(axis=0)\n",
    "            self.Tstds = T.std(axis=0)\n",
    "            self.Tconstant = self.Tstds == 0\n",
    "            self.TstdsFixed = copy(self.Tstds)\n",
    "            self.TstdsFixed[self.Tconstant] = 1\n",
    "        T = self._standardizeT(T)\n",
    "\n",
    "        startTime = time.time()\n",
    "\n",
    "        scgresult = ml.scg(self._pack(self.Vs, self.W),\n",
    "                            self._objectiveF, self._gradientF,\n",
    "                            X, T,\n",
    "                            xPrecision=weightPrecision,\n",
    "                            fPrecision=errorPrecision,\n",
    "                            nIterations=nIterations,\n",
    "                            verbose=verbose,\n",
    "                            ftracep=True,\n",
    "                            xtracep=saveWeightsHistory)\n",
    "\n",
    "        self._unpack(scgresult['x'])\n",
    "        self.reason = scgresult['reason']\n",
    "        self.errorTrace = np.sqrt(scgresult['ftrace']) # * self.Tstds # to _unstandardize the MSEs\n",
    "        self.numberOfIterations = len(self.errorTrace)\n",
    "        self.trained = True\n",
    "        self.weightsHistory = scgresult['xtrace'] if saveWeightsHistory else None\n",
    "        self.trainingTime = time.time() - startTime\n",
    "        return self\n",
    "\n",
    "    def use(self, X, allOutputs=False):\n",
    "        Zprev = self._standardizeX(X)\n",
    "        Z = [Zprev]\n",
    "        for i in range(len(self.nhs)):\n",
    "            V = self.Vs[i]\n",
    "            Zprev = self.activation(Zprev @ V[1:, :] + V[0:1, :])\n",
    "            Z.append(Zprev)\n",
    "        Y = Zprev @ self.W[1:, :] + self.W[0:1, :]\n",
    "        Y = self._unstandardizeT(Y)\n",
    "        return (Y, Z[1:]) if allOutputs else Y\n",
    "\n",
    "    def getNumberOfIterations(self):\n",
    "        return self.numberOfIterations\n",
    "\n",
    "    def getErrors(self):\n",
    "        return self.errorTrace\n",
    "\n",
    "    def getTrainingTime(self):\n",
    "        return self.trainingTime\n",
    "\n",
    "    def getWeightsHistory(self):\n",
    "        return self.weightsHistory\n",
    "\n",
    "    def draw(self, inputNames=None, outputNames=None, gray=False):\n",
    "        ml.draw(self.Vs, self.W, inputNames, outputNames, gray)\n",
    "\n",
    "    def activation(self, weighted_sum):\n",
    "        return np.tanh(weighted_sum)\n",
    "    \n",
    "    def activationDerivative(self, activation_value):\n",
    "        return 1 - activation_value * activation_value\n",
    "    \n",
    "\n",
    "class NeuralNetworkReLU(NeuralNetwork):\n",
    "    # the following is a really fancy and quick numpy way of using  \n",
    "    # ReLU (if x <= 0 return 0 else return x) as an activation function\n",
    "    # taken from a reply by @Sid on stackoverflow.com\n",
    "    def activation(self, weighted_sum):\n",
    "        weighted_sum = np.array(weighted_sum)\n",
    "        weighted_sum[weighted_sum<=0] = 0\n",
    " \n",
    "        return weighted_sum\n",
    "    \n",
    "    def activationDerivative(self, activation_value):\n",
    "        activation_value = np.array(activation_value)\n",
    "        activation_value[activation_value<=0] = 0\n",
    "        activation_value[activation_value>0] = 1      \n",
    "        return activation_value\n",
    "    \n",
    "    \n",
    "if __name__ == '__main__':\n",
    "\n",
    "    X = np.arange(10).reshape((-1, 1))\n",
    "    T = X + 2\n",
    "\n",
    "    net = NeuralNetwork(1, 0, 1)\n",
    "    net.train(X, T, 10)\n",
    "    print(net)\n",
    "    \n",
    "    net = NeuralNetwork(1, [5, 5], 1)\n",
    "    net.train(X, T, 10)\n",
    "    print(net)"
   ]
  },
  {
   "cell_type": "markdown",
   "metadata": {},
   "source": [
    "In addition to the utilities code above, we naturally also needed several more helper functions to facilitate this experiment:\n",
    "\n",
    "* A partition function to help break up the data into something more manageable for our NeuralNetwork code\n",
    "* A way to calculate the Root Mean Square Error for intrepreting our final results\n",
    "* A read function to get our data from the files\n",
    "* A convert function to modify the data to be consistent\n",
    "* A function to change to a dict and setup our final X and T matricies"
   ]
  },
  {
   "cell_type": "markdown",
   "metadata": {},
   "source": [
    "Partition() is the function that will break our data into training and testing sets. This is so that we are able to programatically split the data without being too biased or introducing some outside variables we were not intending to test. "
   ]
  },
  {
   "cell_type": "code",
   "execution_count": 50,
   "metadata": {},
   "outputs": [],
   "source": [
    "def partition(X, T, percent, shuffle):\n",
    "    nRows = X.shape[0]\n",
    "    rows = np.arange(nRows)\n",
    "    if shuffle:\n",
    "        np.random.shuffle(rows)\n",
    "    nTrain = int(nRows * percent)\n",
    "    trainRows = rows[:nTrain]\n",
    "    testRows = rows[nTrain:]\n",
    "    Xtrain, Ttrain = X[trainRows, :], T[trainRows, :]\n",
    "    Xtest, Ttest = X[testRows, :], T[testRows, :]\n",
    "    return Xtrain, Ttrain, Xtest, Ttest"
   ]
  },
  {
   "cell_type": "markdown",
   "metadata": {},
   "source": [
    "### Examples with Toy Data"
   ]
  },
  {
   "cell_type": "markdown",
   "metadata": {},
   "source": [
    "We can run the following code to make sure that everything has been imported and written correctly. These cells should run error free and produce resonable data locally. "
   ]
  },
  {
   "cell_type": "code",
   "execution_count": 4,
   "metadata": {},
   "outputs": [],
   "source": [
    "import numpy as np\n",
    "\n",
    "X = np.arange(10*2).reshape((10, 2))\n",
    "T = X[:, 0:1] * 0.1"
   ]
  },
  {
   "cell_type": "code",
   "execution_count": 5,
   "metadata": {},
   "outputs": [
    {
     "data": {
      "text/plain": [
       "array([[ 0,  1],\n",
       "       [ 2,  3],\n",
       "       [ 4,  5],\n",
       "       [ 6,  7],\n",
       "       [ 8,  9],\n",
       "       [10, 11],\n",
       "       [12, 13],\n",
       "       [14, 15],\n",
       "       [16, 17],\n",
       "       [18, 19]])"
      ]
     },
     "execution_count": 5,
     "metadata": {},
     "output_type": "execute_result"
    }
   ],
   "source": [
    "X"
   ]
  },
  {
   "cell_type": "code",
   "execution_count": 6,
   "metadata": {},
   "outputs": [
    {
     "data": {
      "text/plain": [
       "array([[0. ],\n",
       "       [0.2],\n",
       "       [0.4],\n",
       "       [0.6],\n",
       "       [0.8],\n",
       "       [1. ],\n",
       "       [1.2],\n",
       "       [1.4],\n",
       "       [1.6],\n",
       "       [1.8]])"
      ]
     },
     "execution_count": 6,
     "metadata": {},
     "output_type": "execute_result"
    }
   ],
   "source": [
    "T"
   ]
  },
  {
   "cell_type": "code",
   "execution_count": 7,
   "metadata": {},
   "outputs": [],
   "source": [
    "Xtrain, Ttrain, Xtest, Ttest = partition(X, T, 0.8, shuffle=False)"
   ]
  },
  {
   "cell_type": "code",
   "execution_count": 8,
   "metadata": {},
   "outputs": [
    {
     "data": {
      "text/plain": [
       "array([[ 0,  1],\n",
       "       [ 2,  3],\n",
       "       [ 4,  5],\n",
       "       [ 6,  7],\n",
       "       [ 8,  9],\n",
       "       [10, 11],\n",
       "       [12, 13],\n",
       "       [14, 15]])"
      ]
     },
     "execution_count": 8,
     "metadata": {},
     "output_type": "execute_result"
    }
   ],
   "source": [
    "Xtrain"
   ]
  },
  {
   "cell_type": "code",
   "execution_count": 9,
   "metadata": {
    "scrolled": true
   },
   "outputs": [
    {
     "data": {
      "text/plain": [
       "array([[0. ],\n",
       "       [0.2],\n",
       "       [0.4],\n",
       "       [0.6],\n",
       "       [0.8],\n",
       "       [1. ],\n",
       "       [1.2],\n",
       "       [1.4]])"
      ]
     },
     "execution_count": 9,
     "metadata": {},
     "output_type": "execute_result"
    }
   ],
   "source": [
    "Ttrain"
   ]
  },
  {
   "cell_type": "code",
   "execution_count": 10,
   "metadata": {},
   "outputs": [
    {
     "data": {
      "text/plain": [
       "array([[16, 17],\n",
       "       [18, 19]])"
      ]
     },
     "execution_count": 10,
     "metadata": {},
     "output_type": "execute_result"
    }
   ],
   "source": [
    "Xtest"
   ]
  },
  {
   "cell_type": "code",
   "execution_count": 11,
   "metadata": {},
   "outputs": [
    {
     "data": {
      "text/plain": [
       "array([[1.6],\n",
       "       [1.8]])"
      ]
     },
     "execution_count": 11,
     "metadata": {},
     "output_type": "execute_result"
    }
   ],
   "source": [
    "Ttest"
   ]
  },
  {
   "cell_type": "markdown",
   "metadata": {},
   "source": [
    "If shuffle=True is used as an argument, then the samples are randomly rearranged before the partitions are formed."
   ]
  },
  {
   "cell_type": "code",
   "execution_count": 12,
   "metadata": {},
   "outputs": [],
   "source": [
    "Xtrain, Ttrain, Xtest, Ttest = partition(X, T, 0.8, shuffle=True)"
   ]
  },
  {
   "cell_type": "code",
   "execution_count": 13,
   "metadata": {},
   "outputs": [
    {
     "data": {
      "text/plain": [
       "array([[ 6,  7],\n",
       "       [10, 11],\n",
       "       [ 0,  1],\n",
       "       [ 2,  3],\n",
       "       [ 4,  5],\n",
       "       [16, 17],\n",
       "       [18, 19],\n",
       "       [14, 15]])"
      ]
     },
     "execution_count": 13,
     "metadata": {},
     "output_type": "execute_result"
    }
   ],
   "source": [
    "Xtrain"
   ]
  },
  {
   "cell_type": "code",
   "execution_count": 14,
   "metadata": {},
   "outputs": [
    {
     "data": {
      "text/plain": [
       "array([[0.6],\n",
       "       [1. ],\n",
       "       [0. ],\n",
       "       [0.2],\n",
       "       [0.4],\n",
       "       [1.6],\n",
       "       [1.8],\n",
       "       [1.4]])"
      ]
     },
     "execution_count": 14,
     "metadata": {},
     "output_type": "execute_result"
    }
   ],
   "source": [
    "Ttrain"
   ]
  },
  {
   "cell_type": "code",
   "execution_count": 15,
   "metadata": {},
   "outputs": [
    {
     "data": {
      "text/plain": [
       "array([[12, 13],\n",
       "       [ 8,  9]])"
      ]
     },
     "execution_count": 15,
     "metadata": {},
     "output_type": "execute_result"
    }
   ],
   "source": [
    "Xtest"
   ]
  },
  {
   "cell_type": "markdown",
   "metadata": {},
   "source": [
    "### Neural Network"
   ]
  },
  {
   "cell_type": "code",
   "execution_count": 16,
   "metadata": {},
   "outputs": [],
   "source": [
    "import neuralnetworks as nn"
   ]
  },
  {
   "cell_type": "code",
   "execution_count": 17,
   "metadata": {},
   "outputs": [
    {
     "data": {
      "text/plain": [
       "<module 'neuralnetworks' from 'C:\\\\Users\\\\DrSatan\\\\Downloads\\\\440Project-master\\\\src\\\\neuralnetworks.py'>"
      ]
     },
     "execution_count": 17,
     "metadata": {},
     "output_type": "execute_result"
    }
   ],
   "source": [
    "# import function does not automatically import a new version of a file\n",
    "# To make python automatically reload files, we need to use these commands\n",
    "import imp\n",
    "imp.reload(nn)"
   ]
  },
  {
   "cell_type": "code",
   "execution_count": 18,
   "metadata": {},
   "outputs": [],
   "source": [
    "X = np.arange(10).reshape((-1,1))\n",
    "T = np.sin(X)"
   ]
  },
  {
   "cell_type": "markdown",
   "metadata": {},
   "source": [
    "#### tanh"
   ]
  },
  {
   "cell_type": "code",
   "execution_count": 19,
   "metadata": {},
   "outputs": [],
   "source": [
    "nnetTanh = nn.NeuralNetwork(1, [10], 1)"
   ]
  },
  {
   "cell_type": "code",
   "execution_count": 20,
   "metadata": {},
   "outputs": [
    {
     "data": {
      "text/plain": [
       "[-0.9640275800758169,\n",
       " -0.46211715726000974,\n",
       " 0.0,\n",
       " 0.46211715726000974,\n",
       " 0.9640275800758169]"
      ]
     },
     "execution_count": 20,
     "metadata": {},
     "output_type": "execute_result"
    }
   ],
   "source": [
    "[nnetTanh.activation(s) for s in [-2, -0.5, 0, 0.5, 2]]"
   ]
  },
  {
   "cell_type": "code",
   "execution_count": 21,
   "metadata": {},
   "outputs": [
    {
     "data": {
      "text/plain": [
       "[0.07065082485316443,\n",
       " 0.7864477329659274,\n",
       " 1.0,\n",
       " 0.7864477329659274,\n",
       " 0.07065082485316443]"
      ]
     },
     "execution_count": 21,
     "metadata": {},
     "output_type": "execute_result"
    }
   ],
   "source": [
    "[nnetTanh.activationDerivative(nnetTanh.activation(s)) for s in [-2, -0.5, 0, 0.5, 2]]"
   ]
  },
  {
   "cell_type": "code",
   "execution_count": 22,
   "metadata": {},
   "outputs": [
    {
     "name": "stdout",
     "output_type": "stream",
     "text": [
      "SCG: Iteration 10 fValue Eval 0.2364713654481463 Scale 0.0455774951335608\n",
      "SCG: Iteration 20 fValue Eval 0.07106773483740893 Scale 4.4509272591367966e-05\n",
      "SCG: Iteration 30 fValue Eval 0.027059547497496013 Scale 3.4772869212006223e-07\n",
      "SCG: Iteration 40 fValue Eval 0.00954992346953286 Scale 3.3957880089849827e-10\n",
      "SCG: Iteration 50 fValue Eval 0.0032101016268178796 Scale 3.316199227524397e-13\n",
      "SCG: Iteration 60 fValue Eval 0.002121477427861544 Scale 1e-15\n",
      "SCG: Iteration 70 fValue Eval 0.0008059124177880659 Scale 1e-15\n",
      "SCG: Iteration 80 fValue Eval 0.0002724037135163308 Scale 1e-15\n",
      "SCG: Iteration 90 fValue Eval 5.9704905803927615e-05 Scale 1e-15\n",
      "SCG: Iteration 100 fValue Eval 2.460558200519045e-05 Scale 1e-15\n"
     ]
    },
    {
     "data": {
      "text/plain": [
       "NeuralNetwork(1, [10], 1)\n",
       "   Network was trained for 101 iterations that took 0.0248 seconds. Final error is 0.004960401395571779."
      ]
     },
     "execution_count": 22,
     "metadata": {},
     "output_type": "execute_result"
    }
   ],
   "source": [
    "nnetTanh.train(X, T, 100, verbose=True)\n",
    "nnetTanh"
   ]
  },
  {
   "cell_type": "code",
   "execution_count": 23,
   "metadata": {},
   "outputs": [
    {
     "data": {
      "image/png": "[encoded data removed]",
      "text/plain": [
       "<Figure size 576x864 with 3 Axes>"
      ]
     },
     "metadata": {
      "needs_background": "light"
     },
     "output_type": "display_data"
    }
   ],
   "source": [
    "plt.figure(figsize=(8, 12))\n",
    "plt.subplot(3, 1, 1)\n",
    "plt.plot(nnetTanh.getErrors())\n",
    "\n",
    "plt.subplot(3, 1, 2)\n",
    "plt.plot(X, T, 'o-', label='Actual')\n",
    "plt.plot(X, nnetTanh.use(X), 'o-', label='Predicted')\n",
    "\n",
    "plt.subplot(3, 1, 3)\n",
    "nnetTanh.draw()"
   ]
  },
  {
   "cell_type": "markdown",
   "metadata": {},
   "source": [
    "#### ReLU"
   ]
  },
  {
   "cell_type": "code",
   "execution_count": 24,
   "metadata": {},
   "outputs": [],
   "source": [
    "nnetReLU = nn.NeuralNetworkReLU(1, [10], 1)"
   ]
  },
  {
   "cell_type": "code",
   "execution_count": 25,
   "metadata": {},
   "outputs": [
    {
     "data": {
      "text/plain": [
       "[array(0), array(0.), array(0), array(0.5), array(2)]"
      ]
     },
     "execution_count": 25,
     "metadata": {},
     "output_type": "execute_result"
    }
   ],
   "source": [
    "[nnetReLU.activation(s) for s in [-2, -0.5, 0, 0.5, 2]]"
   ]
  },
  {
   "cell_type": "code",
   "execution_count": 26,
   "metadata": {},
   "outputs": [
    {
     "data": {
      "text/plain": [
       "[array(0), array(0.), array(0), array(1.), array(1)]"
      ]
     },
     "execution_count": 26,
     "metadata": {},
     "output_type": "execute_result"
    }
   ],
   "source": [
    "[nnetReLU.activationDerivative(nnetReLU.activation(s)) for s in [-2, -0.5, 0, 0.5, 2]]"
   ]
  },
  {
   "cell_type": "code",
   "execution_count": 27,
   "metadata": {},
   "outputs": [
    {
     "name": "stdout",
     "output_type": "stream",
     "text": [
      "SCG: Iteration 10 fValue Eval 0.4325158603835263 Scale 0.008192\n",
      "SCG: Iteration 20 fValue Eval 0.24429523940245987 Scale 0.008192\n",
      "SCG: Iteration 30 fValue Eval 0.2297805454182861 Scale 0.262144\n",
      "SCG: Iteration 40 fValue Eval 0.17739361796925576 Scale 0.032768\n",
      "SCG: Iteration 50 fValue Eval 0.039580396065411624 Scale 0.002048\n",
      "SCG: Iteration 60 fValue Eval 0.02961491244809287 Scale 2e-06\n",
      "SCG: Iteration 70 fValue Eval 0.01788093233095206 Scale 1.953125e-09\n",
      "SCG: Iteration 80 fValue Eval 0.006864147923811669 Scale 1.9073486328125e-12\n",
      "SCG: Iteration 90 fValue Eval 0.002037628611155773 Scale 1.862645149230957e-15\n",
      "SCG: Iteration 100 fValue Eval 0.0005606051814202541 Scale 1e-15\n"
     ]
    },
    {
     "data": {
      "text/plain": [
       "NeuralNetwork(1, [10], 1)\n",
       "   Network was trained for 101 iterations that took 0.0248 seconds. Final error is 0.023677102470958184."
      ]
     },
     "execution_count": 27,
     "metadata": {},
     "output_type": "execute_result"
    }
   ],
   "source": [
    "nnetReLU.train(X, T, 100, verbose=True)\n",
    "nnetReLU"
   ]
  },
  {
   "cell_type": "code",
   "execution_count": 28,
   "metadata": {},
   "outputs": [
    {
     "data": {
      "image/png": "[encoded data removed]",
      "text/plain": [
       "<Figure size 576x864 with 3 Axes>"
      ]
     },
     "metadata": {
      "needs_background": "light"
     },
     "output_type": "display_data"
    }
   ],
   "source": [
    "plt.figure(figsize=(8, 12))\n",
    "plt.subplot(3, 1, 1)\n",
    "plt.plot(nnetReLU.getErrors())\n",
    "\n",
    "plt.subplot(3, 1, 2)\n",
    "plt.plot(X, T, 'o-', label='Actual')\n",
    "plt.plot(X, nnetReLU.use(X), 'o-', label='Predicted')\n",
    "\n",
    "plt.subplot(3, 1, 3)\n",
    "nnetReLU.draw()"
   ]
  },
  {
   "cell_type": "markdown",
   "metadata": {},
   "source": [
    "## Integration With Our Data "
   ]
  },
  {
   "cell_type": "markdown",
   "metadata": {},
   "source": [
    "Using some helper functions and partition (defined above), we are then able to take our fully parsed data set and partition it into training and testing data. We can then simply feed this new data set into the fuctions exactly like the toy data above. "
   ]
  },
  {
   "cell_type": "code",
   "execution_count": 51,
   "metadata": {},
   "outputs": [],
   "source": [
    "import numpy as np\n",
    "import ast\n",
    "import json\n",
    "import subprocess\n",
    "import os\n",
    "import time\n",
    "import matplotlib.pyplot as plt\n",
    "import copy"
   ]
  },
  {
   "cell_type": "code",
   "execution_count": 52,
   "metadata": {},
   "outputs": [],
   "source": [
    "# returns the data from the txt file given to it also returns format of data\n",
    "# requires filename in. \n",
    "def readDataFromFile(fileName):\n",
    "    dataFile = []\n",
    "    formatFile = []\n",
    "    temp = \"\"\n",
    "    with open(fileName) as f:\n",
    "        for curline in f:\n",
    "            if curline.startswith(\"#\"):\n",
    "                formatFile.append(curline)\n",
    "            else:\n",
    "                temp+=curline\n",
    "    dataFile = ast.literal_eval(temp)\n",
    "    return dataFile, formatFile"
   ]
  },
  {
   "cell_type": "code",
   "execution_count": 53,
   "metadata": {},
   "outputs": [],
   "source": [
    "def changeToInt(nparr,col):\n",
    "    temp = {}\n",
    "    tempInt = 0\n",
    "    for x in nparr[:,col]:\n",
    "        if x not in temp:\n",
    "            temp[x] = tempInt\n",
    "            tempInt = tempInt+1\n",
    "    return temp\n",
    "        "
   ]
  },
  {
   "cell_type": "code",
   "execution_count": 54,
   "metadata": {},
   "outputs": [],
   "source": [
    "def replace_with_dict(ar, col, dic):\n",
    "    for (x,y), value in np.ndenumerate(ar):\n",
    "        if y == col:\n",
    "            ar[x,y]=dic.get(ar[x,y])\n",
    "    print(ar)\n",
    "    return ar"
   ]
  },
  {
   "cell_type": "code",
   "execution_count": 55,
   "metadata": {},
   "outputs": [],
   "source": [
    "data, f = readDataFromFile('data list.txt')\n",
    "npData = np.array(data)"
   ]
  },
  {
   "cell_type": "code",
   "execution_count": 56,
   "metadata": {},
   "outputs": [],
   "source": [
    "dic =changeToInt(npData,0)\n",
    "battlefieldDic = changeToInt(npData,1)\n",
    "characterDic = changeToInt(npData,2)"
   ]
  },
  {
   "cell_type": "code",
   "execution_count": 57,
   "metadata": {},
   "outputs": [
    {
     "data": {
      "text/plain": [
       "{'WIN': 0, 'LOSS': 1}"
      ]
     },
     "execution_count": 57,
     "metadata": {},
     "output_type": "execute_result"
    }
   ],
   "source": [
    "dic"
   ]
  },
  {
   "cell_type": "code",
   "execution_count": 58,
   "metadata": {},
   "outputs": [
    {
     "data": {
      "text/plain": [
       "{'Alterac Pass': 0,\n",
       " 'Tomb of the Spider Queen': 1,\n",
       " 'Battlefield of Eternity': 2,\n",
       " \"Blackheart's Bay\": 3,\n",
       " 'Braxis Holdout': 4,\n",
       " 'Dragon Shire': 5,\n",
       " 'Cursed Hollow': 6,\n",
       " 'Garden of Terror': 7,\n",
       " 'Hanamura Temple': 8,\n",
       " 'Haunted Mines': 9,\n",
       " 'Infernal Shrines': 10,\n",
       " 'Lost Cavern': 11,\n",
       " 'Sky Temple': 12,\n",
       " 'Towers of Doom': 13,\n",
       " 'Volskaya Foundry': 14,\n",
       " 'Warhead Junction': 15}"
      ]
     },
     "execution_count": 58,
     "metadata": {},
     "output_type": "execute_result"
    }
   ],
   "source": [
    "battlefieldDic"
   ]
  },
  {
   "cell_type": "code",
   "execution_count": 59,
   "metadata": {},
   "outputs": [
    {
     "data": {
      "text/plain": [
       "{'Muradin': 0,\n",
       " 'Li-Ming': 1,\n",
       " 'Raynor': 2,\n",
       " 'Garrosh': 3,\n",
       " 'Fenix': 4,\n",
       " 'Blaze': 5,\n",
       " 'Dehaka': 6,\n",
       " 'Malfurion': 7,\n",
       " 'Diablo': 8,\n",
       " 'Jaina': 9,\n",
       " 'Malthael': 10,\n",
       " 'Zeratul': 11,\n",
       " 'Probius': 12,\n",
       " 'Hanzo': 13,\n",
       " 'Junkrat': 14,\n",
       " \"Kel'Thuzad\": 15,\n",
       " 'E.T.C.': 16,\n",
       " 'Abathur': 17,\n",
       " 'Greymane': 18,\n",
       " 'Stitches': 19,\n",
       " 'Medivh': 20,\n",
       " 'Uther': 21,\n",
       " 'Zagara': 22,\n",
       " \"Mal'Ganis\": 23,\n",
       " 'Genji': 24,\n",
       " 'Zarya': 25,\n",
       " 'Sylvanas': 26,\n",
       " 'Ana': 27,\n",
       " 'The Butcher': 28,\n",
       " 'Stukov': 29,\n",
       " 'Illidan': 30,\n",
       " 'Arthas': 31,\n",
       " 'Gall': 32,\n",
       " 'Ragnaros': 33,\n",
       " \"Anub'arak\": 34,\n",
       " 'Kharazim': 35,\n",
       " 'Chromie': 36,\n",
       " 'Sonya': 37,\n",
       " 'Maiev': 38,\n",
       " 'Artanis': 39,\n",
       " 'Alarak': 40,\n",
       " 'Mephisto': 41,\n",
       " \"Kael'thas\": 42,\n",
       " 'Auriel': 43,\n",
       " 'Yrel': 44,\n",
       " \"Gul'dan\": 45,\n",
       " 'Valla': 46,\n",
       " 'Whitemane': 47,\n",
       " 'Deckard': 48,\n",
       " 'Azmodan': 49,\n",
       " 'Johanna': 50,\n",
       " 'Brightwing': 51,\n",
       " 'Tracer': 52,\n",
       " 'Tassadar': 53,\n",
       " 'Lt. Morales': 54,\n",
       " 'D.Va': 55,\n",
       " 'Sgt. Hammer': 56,\n",
       " 'Alexstrasza': 57,\n",
       " 'Tyrande': 58}"
      ]
     },
     "execution_count": 59,
     "metadata": {},
     "output_type": "execute_result"
    }
   ],
   "source": [
    "characterDic"
   ]
  },
  {
   "cell_type": "code",
   "execution_count": 60,
   "metadata": {
    "scrolled": true
   },
   "outputs": [
    {
     "name": "stdout",
     "output_type": "stream",
     "text": [
      "[['0' 'Alterac Pass' 'Muradin' ... '40157' '40637' '3']\n",
      " ['0' 'Alterac Pass' 'Li-Ming' ... '37477' '70406' '2']\n",
      " ['0' 'Alterac Pass' 'Raynor' ... '37744' '45956' '0']\n",
      " ...\n",
      " ['1' 'Warhead Junction' 'Malfurion' ... '28897' '23253' '0']\n",
      " ['1' 'Warhead Junction' 'E.T.C.' ... '25607' '27842' '3']\n",
      " ['0' 'Warhead Junction' 'Greymane' ... '30796' '26535' '0']]\n",
      "[['0' '0' 'Muradin' ... '40157' '40637' '3']\n",
      " ['0' '0' 'Li-Ming' ... '37477' '70406' '2']\n",
      " ['0' '0' 'Raynor' ... '37744' '45956' '0']\n",
      " ...\n",
      " ['1' '15' 'Malfurion' ... '28897' '23253' '0']\n",
      " ['1' '15' 'E.T.C.' ... '25607' '27842' '3']\n",
      " ['0' '15' 'Greymane' ... '30796' '26535' '0']]\n",
      "[['0' '0' '0' ... '40157' '40637' '3']\n",
      " ['0' '0' '1' ... '37477' '70406' '2']\n",
      " ['0' '0' '2' ... '37744' '45956' '0']\n",
      " ...\n",
      " ['1' '15' '7' ... '28897' '23253' '0']\n",
      " ['1' '15' '16' ... '25607' '27842' '3']\n",
      " ['0' '15' '18' ... '30796' '26535' '0']]\n"
     ]
    },
    {
     "data": {
      "text/plain": [
       "array([['0', '0', '0', ..., '40157', '40637', '3'],\n",
       "       ['0', '0', '1', ..., '37477', '70406', '2'],\n",
       "       ['0', '0', '2', ..., '37744', '45956', '0'],\n",
       "       ...,\n",
       "       ['1', '15', '7', ..., '28897', '23253', '0'],\n",
       "       ['1', '15', '16', ..., '25607', '27842', '3'],\n",
       "       ['0', '15', '18', ..., '30796', '26535', '0']], dtype='<U24')"
      ]
     },
     "execution_count": 60,
     "metadata": {},
     "output_type": "execute_result"
    }
   ],
   "source": [
    "replace_with_dict(npData,0,dic)\n",
    "replace_with_dict(npData,1,battlefieldDic)\n",
    "replace_with_dict(npData,2,characterDic)"
   ]
  },
  {
   "cell_type": "code",
   "execution_count": 61,
   "metadata": {},
   "outputs": [],
   "source": [
    "X = npData[:,1:-1]\n",
    "X = X.astype(int)\n",
    "T = npData[:,0]\n",
    "T = T.astype(int)\n",
    "T = np.vstack(T)"
   ]
  },
  {
   "cell_type": "code",
   "execution_count": 62,
   "metadata": {
    "scrolled": true
   },
   "outputs": [
    {
     "data": {
      "text/plain": [
       "(442, 7)"
      ]
     },
     "execution_count": 62,
     "metadata": {},
     "output_type": "execute_result"
    }
   ],
   "source": [
    "X.shape"
   ]
  },
  {
   "cell_type": "code",
   "execution_count": 63,
   "metadata": {},
   "outputs": [
    {
     "data": {
      "text/plain": [
       "(442, 1)"
      ]
     },
     "execution_count": 63,
     "metadata": {},
     "output_type": "execute_result"
    }
   ],
   "source": [
    "T.shape"
   ]
  },
  {
   "cell_type": "code",
   "execution_count": 64,
   "metadata": {},
   "outputs": [],
   "source": [
    "Xtrain, Ttrain, Xtest, Ttest = partition(X, T, 0.8, shuffle=False)"
   ]
  },
  {
   "cell_type": "code",
   "execution_count": 65,
   "metadata": {},
   "outputs": [
    {
     "data": {
      "text/plain": [
       "array([[    0,     0,    19, ..., 52558, 40157, 40637],\n",
       "       [    0,     1,    21, ..., 64593, 37477, 70406],\n",
       "       [    0,     2,    14, ..., 69404, 37744, 45956],\n",
       "       ...,\n",
       "       [   13,    40,    19, ..., 21788, 18123, 41027],\n",
       "       [   13,     8,    16, ..., 49158, 38760, 53761],\n",
       "       [   13,    17,     9, ..., 78577, 58538, 21159]])"
      ]
     },
     "execution_count": 65,
     "metadata": {},
     "output_type": "execute_result"
    }
   ],
   "source": [
    "Xtrain"
   ]
  },
  {
   "cell_type": "code",
   "execution_count": 66,
   "metadata": {},
   "outputs": [
    {
     "data": {
      "text/plain": [
       "array([[0],\n",
       "       [0],\n",
       "       [0],\n",
       "       [1],\n",
       "       [0],\n",
       "       [0],\n",
       "       [0],\n",
       "       [0],\n",
       "       [1],\n",
       "       [1],\n",
       "       [0],\n",
       "       [0],\n",
       "       [0],\n",
       "       [0],\n",
       "       [0],\n",
       "       [0],\n",
       "       [0],\n",
       "       [0],\n",
       "       [0],\n",
       "       [0],\n",
       "       [1],\n",
       "       [0],\n",
       "       [0],\n",
       "       [1],\n",
       "       [0],\n",
       "       [0],\n",
       "       [0],\n",
       "       [0],\n",
       "       [0],\n",
       "       [0],\n",
       "       [0],\n",
       "       [0],\n",
       "       [1],\n",
       "       [0],\n",
       "       [0],\n",
       "       [0],\n",
       "       [0],\n",
       "       [1],\n",
       "       [0],\n",
       "       [0],\n",
       "       [1],\n",
       "       [0],\n",
       "       [0],\n",
       "       [1],\n",
       "       [0],\n",
       "       [0],\n",
       "       [1],\n",
       "       [0],\n",
       "       [0],\n",
       "       [1],\n",
       "       [1],\n",
       "       [1],\n",
       "       [0],\n",
       "       [0],\n",
       "       [0],\n",
       "       [0],\n",
       "       [0],\n",
       "       [0],\n",
       "       [0],\n",
       "       [0],\n",
       "       [0],\n",
       "       [0],\n",
       "       [0],\n",
       "       [0],\n",
       "       [0],\n",
       "       [1],\n",
       "       [0],\n",
       "       [0],\n",
       "       [1],\n",
       "       [1],\n",
       "       [0],\n",
       "       [1],\n",
       "       [0],\n",
       "       [1],\n",
       "       [0],\n",
       "       [0],\n",
       "       [1],\n",
       "       [0],\n",
       "       [0],\n",
       "       [0],\n",
       "       [0],\n",
       "       [0],\n",
       "       [0],\n",
       "       [0],\n",
       "       [1],\n",
       "       [0],\n",
       "       [0],\n",
       "       [1],\n",
       "       [1],\n",
       "       [0],\n",
       "       [1],\n",
       "       [0],\n",
       "       [0],\n",
       "       [0],\n",
       "       [0],\n",
       "       [0],\n",
       "       [0],\n",
       "       [0],\n",
       "       [0],\n",
       "       [0],\n",
       "       [1],\n",
       "       [0],\n",
       "       [0],\n",
       "       [0],\n",
       "       [1],\n",
       "       [0],\n",
       "       [0],\n",
       "       [0],\n",
       "       [0],\n",
       "       [0],\n",
       "       [0],\n",
       "       [0],\n",
       "       [0],\n",
       "       [0],\n",
       "       [0],\n",
       "       [0],\n",
       "       [0],\n",
       "       [1],\n",
       "       [0],\n",
       "       [1],\n",
       "       [0],\n",
       "       [1],\n",
       "       [0],\n",
       "       [1],\n",
       "       [0],\n",
       "       [0],\n",
       "       [1],\n",
       "       [0],\n",
       "       [1],\n",
       "       [1],\n",
       "       [0],\n",
       "       [0],\n",
       "       [1],\n",
       "       [0],\n",
       "       [0],\n",
       "       [0],\n",
       "       [0],\n",
       "       [1],\n",
       "       [1],\n",
       "       [0],\n",
       "       [1],\n",
       "       [1],\n",
       "       [0],\n",
       "       [0],\n",
       "       [0],\n",
       "       [1],\n",
       "       [1],\n",
       "       [0],\n",
       "       [0],\n",
       "       [0],\n",
       "       [1],\n",
       "       [1],\n",
       "       [0],\n",
       "       [0],\n",
       "       [1],\n",
       "       [1],\n",
       "       [0],\n",
       "       [1],\n",
       "       [0],\n",
       "       [0],\n",
       "       [0],\n",
       "       [1],\n",
       "       [0],\n",
       "       [0],\n",
       "       [0],\n",
       "       [1],\n",
       "       [1],\n",
       "       [0],\n",
       "       [0],\n",
       "       [1],\n",
       "       [0],\n",
       "       [0],\n",
       "       [0],\n",
       "       [1],\n",
       "       [0],\n",
       "       [0],\n",
       "       [0],\n",
       "       [0],\n",
       "       [0],\n",
       "       [1],\n",
       "       [0],\n",
       "       [0],\n",
       "       [1],\n",
       "       [1],\n",
       "       [1],\n",
       "       [1],\n",
       "       [1],\n",
       "       [1],\n",
       "       [0],\n",
       "       [0],\n",
       "       [0],\n",
       "       [0],\n",
       "       [1],\n",
       "       [1],\n",
       "       [0],\n",
       "       [0],\n",
       "       [0],\n",
       "       [0],\n",
       "       [0],\n",
       "       [0],\n",
       "       [0],\n",
       "       [0],\n",
       "       [0],\n",
       "       [0],\n",
       "       [0],\n",
       "       [0],\n",
       "       [0],\n",
       "       [0],\n",
       "       [0],\n",
       "       [0],\n",
       "       [0],\n",
       "       [1],\n",
       "       [0],\n",
       "       [0],\n",
       "       [1],\n",
       "       [0],\n",
       "       [0],\n",
       "       [1],\n",
       "       [1],\n",
       "       [0],\n",
       "       [0],\n",
       "       [0],\n",
       "       [1],\n",
       "       [0],\n",
       "       [1],\n",
       "       [0],\n",
       "       [0],\n",
       "       [0],\n",
       "       [0],\n",
       "       [0],\n",
       "       [1],\n",
       "       [0],\n",
       "       [0],\n",
       "       [0],\n",
       "       [0],\n",
       "       [0],\n",
       "       [0],\n",
       "       [0],\n",
       "       [0],\n",
       "       [1],\n",
       "       [1],\n",
       "       [0],\n",
       "       [0],\n",
       "       [1],\n",
       "       [0],\n",
       "       [0],\n",
       "       [1],\n",
       "       [0],\n",
       "       [0],\n",
       "       [1],\n",
       "       [0],\n",
       "       [0],\n",
       "       [0],\n",
       "       [1],\n",
       "       [0],\n",
       "       [0],\n",
       "       [1],\n",
       "       [1],\n",
       "       [0],\n",
       "       [1],\n",
       "       [0],\n",
       "       [1],\n",
       "       [0],\n",
       "       [1],\n",
       "       [0],\n",
       "       [0],\n",
       "       [0],\n",
       "       [0],\n",
       "       [0],\n",
       "       [0],\n",
       "       [1],\n",
       "       [0],\n",
       "       [0],\n",
       "       [1],\n",
       "       [1],\n",
       "       [0],\n",
       "       [0],\n",
       "       [0],\n",
       "       [0],\n",
       "       [0],\n",
       "       [0],\n",
       "       [0],\n",
       "       [0],\n",
       "       [0],\n",
       "       [0],\n",
       "       [0],\n",
       "       [1],\n",
       "       [1],\n",
       "       [0],\n",
       "       [0],\n",
       "       [1],\n",
       "       [1],\n",
       "       [0],\n",
       "       [0],\n",
       "       [0],\n",
       "       [0],\n",
       "       [1],\n",
       "       [1],\n",
       "       [0],\n",
       "       [1],\n",
       "       [0],\n",
       "       [1],\n",
       "       [0],\n",
       "       [1],\n",
       "       [0],\n",
       "       [0],\n",
       "       [1],\n",
       "       [1],\n",
       "       [0],\n",
       "       [0],\n",
       "       [0],\n",
       "       [1],\n",
       "       [0],\n",
       "       [1],\n",
       "       [0],\n",
       "       [0],\n",
       "       [1],\n",
       "       [0],\n",
       "       [1],\n",
       "       [1],\n",
       "       [0],\n",
       "       [1],\n",
       "       [1],\n",
       "       [0],\n",
       "       [1],\n",
       "       [0],\n",
       "       [0],\n",
       "       [1],\n",
       "       [1],\n",
       "       [0],\n",
       "       [1],\n",
       "       [0],\n",
       "       [0],\n",
       "       [0],\n",
       "       [1],\n",
       "       [0],\n",
       "       [0],\n",
       "       [0],\n",
       "       [0],\n",
       "       [1],\n",
       "       [0],\n",
       "       [1],\n",
       "       [0],\n",
       "       [0],\n",
       "       [1],\n",
       "       [0],\n",
       "       [0],\n",
       "       [1],\n",
       "       [0],\n",
       "       [0],\n",
       "       [0],\n",
       "       [1],\n",
       "       [0]])"
      ]
     },
     "execution_count": 66,
     "metadata": {},
     "output_type": "execute_result"
    }
   ],
   "source": [
    "Ttrain"
   ]
  },
  {
   "cell_type": "markdown",
   "metadata": {},
   "source": [
    "## Something"
   ]
  },
  {
   "cell_type": "markdown",
   "metadata": {},
   "source": [
    "Now that we are sure our data has been partitioned and everything is working as intended, we are able to run the experiment. "
   ]
  },
  {
   "cell_type": "markdown",
   "metadata": {},
   "source": [
    "A Root Mean Squared Error function is required in order to intrepret the data and truly understand what is happening. "
   ]
  },
  {
   "cell_type": "code",
   "execution_count": 68,
   "metadata": {},
   "outputs": [],
   "source": [
    "def rmse(A, B):\n",
    "    return np.sqrt(np.mean((A - B)**2))"
   ]
  },
  {
   "cell_type": "markdown",
   "metadata": {},
   "source": [
    "This python code then performs the following algorithm, for each activation function tanh and ReLU\n",
    "\n",
    "* For each of the two activation functions, tanh, and ReLU:\n",
    "    * For each hidden layer structure in [[u]*nl for u in [1, 2, 5, 10, 50] for nl in [1, 2, 3, 4, 5, 10]]:\n",
    "        * Repeat 10 times:\n",
    "            * Randomly partition the data into training set with 80% of samples and testing set with other 20%.\n",
    "            * Create a neural network using the given activation function and hidden layer structure.\n",
    "            * Train the network for 100 iterations.\n",
    "            * Calculate two RMS errors, one on the training partition and one on the testing partitions.\n",
    "        * Calculate the mean of the training and testing RMS errors over the 10 repetitions."
   ]
  },
  {
   "cell_type": "code",
   "execution_count": 46,
   "metadata": {},
   "outputs": [
    {
     "name": "stdout",
     "output_type": "stream",
     "text": [
      "hiddens = [0, [1], [1, 1], [1, 1, 1], [1, 1, 1, 1], [1, 1, 1, 1, 1], [1, 1, 1, 1, 1, 1, 1, 1, 1, 1], [2], [2, 2], [2, 2, 2], [2, 2, 2, 2], [2, 2, 2, 2, 2], [2, 2, 2, 2, 2, 2, 2, 2, 2, 2], [5], [5, 5], [5, 5, 5], [5, 5, 5, 5], [5, 5, 5, 5, 5], [5, 5, 5, 5, 5, 5, 5, 5, 5, 5], [10], [10, 10], [10, 10, 10], [10, 10, 10, 10], [10, 10, 10, 10, 10], [10, 10, 10, 10, 10, 10, 10, 10, 10, 10], [50], [50, 50], [50, 50, 50], [50, 50, 50, 50], [50, 50, 50, 50, 50], [50, 50, 50, 50, 50, 50, 50, 50, 50, 50]]\n",
      "=-=-=-=-tanh-=-=-=-=\n",
      "                                           0         1         2\n",
      "0                                          0  0.334452  0.338185\n",
      "1                                        [1]  0.287931  0.292566\n",
      "2                                     [1, 1]  0.284792  0.304805\n",
      "3                                  [1, 1, 1]  0.293809  0.311585\n",
      "4                               [1, 1, 1, 1]  0.287801  0.322817\n",
      "5                            [1, 1, 1, 1, 1]  0.293223  0.323917\n",
      "6             [1, 1, 1, 1, 1, 1, 1, 1, 1, 1]  0.294807  0.317073\n",
      "7                                        [2]  0.273864  0.319253\n",
      "8                                     [2, 2]  0.270289  0.321170\n",
      "9                                  [2, 2, 2]  0.269946  0.332445\n",
      "10                              [2, 2, 2, 2]  0.266764  0.337701\n",
      "11                           [2, 2, 2, 2, 2]  0.274351  0.334793\n",
      "12            [2, 2, 2, 2, 2, 2, 2, 2, 2, 2]  0.292220  0.326195\n",
      "13                                       [5]  0.257676  0.315081\n",
      "14                                    [5, 5]  0.216836  0.371864\n",
      "15                                 [5, 5, 5]  0.203950  0.371204\n",
      "16                              [5, 5, 5, 5]  0.211533  0.372218\n",
      "17                           [5, 5, 5, 5, 5]  0.210324  0.379630\n",
      "18            [5, 5, 5, 5, 5, 5, 5, 5, 5, 5]  0.233760  0.353208\n",
      "19                                      [10]  0.241015  0.345636\n",
      "20                                  [10, 10]  0.154991  0.387301\n",
      "21                              [10, 10, 10]  0.152188  0.430926\n",
      "22                          [10, 10, 10, 10]  0.162727  0.405843\n",
      "23                      [10, 10, 10, 10, 10]  0.186731  0.394010\n",
      "24  [10, 10, 10, 10, 10, 10, 10, 10, 10, 10]  0.223125  0.368209\n",
      "25                                      [50]  0.199463  0.391242\n",
      "26                                  [50, 50]  0.141008  0.423364\n",
      "27                              [50, 50, 50]  0.131376  0.435102\n",
      "28                          [50, 50, 50, 50]  0.133116  0.436254\n",
      "29                      [50, 50, 50, 50, 50]  0.143030  0.397210\n",
      "30  [50, 50, 50, 50, 50, 50, 50, 50, 50, 50]  0.186618  0.361091\n",
      "=-=-=-=-ReLU-=-=-=-=\n",
      "                                           0         1         2\n",
      "0                                          0  0.332186  0.346591\n",
      "1                                        [1]  0.304977  0.331532\n",
      "2                                     [1, 1]  0.381357  0.379580\n",
      "3                                  [1, 1, 1]  0.362875  0.368307\n",
      "4                               [1, 1, 1, 1]  0.444215  0.448133\n",
      "5                            [1, 1, 1, 1, 1]  0.448549  0.454642\n",
      "6             [1, 1, 1, 1, 1, 1, 1, 1, 1, 1]  0.461752  0.465596\n",
      "7                                        [2]  0.305650  0.332919\n",
      "8                                     [2, 2]  0.281110  0.320218\n",
      "9                                  [2, 2, 2]  0.334331  0.358822\n",
      "10                              [2, 2, 2, 2]  0.359685  0.367051\n",
      "11                           [2, 2, 2, 2, 2]  0.371230  0.400988\n",
      "12            [2, 2, 2, 2, 2, 2, 2, 2, 2, 2]  0.459915  0.473353\n",
      "13                                       [5]  0.281040  0.312260\n",
      "14                                    [5, 5]  0.260528  0.328838\n",
      "15                                 [5, 5, 5]  0.282897  0.327567\n",
      "16                              [5, 5, 5, 5]  0.256149  0.350203\n",
      "17                           [5, 5, 5, 5, 5]  0.271510  0.315922\n",
      "18            [5, 5, 5, 5, 5, 5, 5, 5, 5, 5]  0.367727  0.386137\n",
      "19                                      [10]  0.262997  0.324695\n",
      "20                                  [10, 10]  0.249013  0.320533\n",
      "21                              [10, 10, 10]  0.240961  0.320263\n",
      "22                          [10, 10, 10, 10]  0.235643  0.333597\n",
      "23                      [10, 10, 10, 10, 10]  0.217585  0.354871\n",
      "24  [10, 10, 10, 10, 10, 10, 10, 10, 10, 10]  0.261880  0.334573\n",
      "25                                      [50]  0.198062  0.358174\n",
      "26                                  [50, 50]  0.155290  0.381452\n",
      "27                              [50, 50, 50]  0.151738  0.368802\n",
      "28                          [50, 50, 50, 50]  0.155619  0.372818\n",
      "29                      [50, 50, 50, 50, 50]  0.156166  0.375186\n",
      "30  [50, 50, 50, 50, 50, 50, 50, 50, 50, 50]  0.215013  0.366561\n"
     ]
    }
   ],
   "source": [
    "errorsTanh = []\n",
    "errorsReLU = []\n",
    "hiddens = [0] + [[nu] * nl for nu in [1, 2, 5, 10, 50] for nl in [1,2,3,4,5,10]]\n",
    "rmseTrain = 0\n",
    "rmseTest = 0\n",
    "print('hiddens =', hiddens)\n",
    "# tanh activation function\n",
    "for hids in hiddens: \n",
    "    for count in range(0,10):\n",
    "        Xtrain, Ttrain, Xtest, Ttest = partition(X, T, 0.8, shuffle=True)\n",
    "        nnet = nn.NeuralNetwork(Xtrain.shape[1], hids, Ttrain.shape[1])\n",
    "        nnet.train(Xtrain, Ttrain, 100)\n",
    "        rmseTrain += rmse(Ttrain, nnet.use(Xtrain))\n",
    "        rmseTest += rmse(Ttest, nnet.use(Xtest))\n",
    "    errorsTanh.append([hids, (rmseTrain/10), (rmseTest/10)])\n",
    "    rmseTrain = 0\n",
    "    rmseTest = 0\n",
    "# ReLU activation function\n",
    "rmseTrain = 0\n",
    "rmseTest = 0\n",
    "for hids in hiddens: \n",
    "    for count in range(0,10):\n",
    "        Xtrain, Ttrain, Xtest, Ttest = partition(X, T, 0.8, shuffle=True)\n",
    "        nnet = nn.NeuralNetworkReLU(Xtrain.shape[1], hids, Ttrain.shape[1])\n",
    "        nnet.train(Xtrain, Ttrain, 100)\n",
    "        rmseTrain += rmse(Ttrain, nnet.use(Xtrain))\n",
    "        rmseTest += rmse(Ttest, nnet.use(Xtest))\n",
    "    errorsReLU.append([hids, (rmseTrain/10), (rmseTest/10)])\n",
    "    rmseTrain = 0\n",
    "    rmseTest = 0\n",
    "# use panda to print things in a nice format\n",
    "errorsTanh = pd.DataFrame(errorsTanh)\n",
    "errorsReLU = pd.DataFrame(errorsReLU)\n",
    "print('=-=-=-=-tanh-=-=-=-=')\n",
    "print(errorsTanh)\n",
    "print('=-=-=-=-ReLU-=-=-=-=')\n",
    "print(errorsReLU)"
   ]
  },
  {
   "cell_type": "markdown",
   "metadata": {},
   "source": [
    "That is a little confusing, so we plotted our results to be able to better see and intrepret the information:"
   ]
  },
  {
   "cell_type": "code",
   "execution_count": 47,
   "metadata": {},
   "outputs": [
    {
     "data": {
      "image/png": "[encoded data removed]",
      "text/plain": [
       "<Figure size 1440x720 with 1 Axes>"
      ]
     },
     "metadata": {
      "needs_background": "light"
     },
     "output_type": "display_data"
    }
   ],
   "source": [
    "plt.figure(figsize=(20, 10))\n",
    "plt.plot(errorsTanh.values[:, 1:], 'o-')\n",
    "plt.plot(errorsReLU.values[:, 1:], 'o-')\n",
    "plt.suptitle('RMS errors versus the hidden layer structure')\n",
    "plt.legend(('Train tanh RMSE', 'Test tanh RMSE', 'Train ReLU RMSE', 'Test ReLU RMSE'))\n",
    "plt.xlabel('Hidden Layer Structure')\n",
    "plt.ylabel('Root Mean Square Error')\n",
    "plt.xticks(range(errorsTanh.shape[0]), hiddens, rotation=30, horizontalalignment='right')\n",
    "plt.grid(True)"
   ]
  },
  {
   "cell_type": "markdown",
   "metadata": {},
   "source": [
    "### Results"
   ]
  },
  {
   "cell_type": "markdown",
   "metadata": {},
   "source": [
    "stub"
   ]
  }
 ],
 "metadata": {
  "kernelspec": {
   "display_name": "Python 3",
   "language": "python",
   "name": "python3"
  },
  "language_info": {
   "codemirror_mode": {
    "name": "ipython",
    "version": 3
   },
   "file_extension": ".py",
   "mimetype": "text/x-python",
   "name": "python",
   "nbconvert_exporter": "python",
   "pygments_lexer": "ipython3",
   "version": "3.7.0"
  }
 },
 "nbformat": 4,
 "nbformat_minor": 1
}
